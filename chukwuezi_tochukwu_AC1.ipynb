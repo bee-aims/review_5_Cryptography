{
 "cells": [
  {
   "cell_type": "markdown",
   "id": "a2936128",
   "metadata": {},
   "source": [
    "# $$\n",
    "\\text{African Institute for Mathematical Sciences, Rwanda}\n",
    "$$\n",
    "\n",
    "## $$\n",
    "\\text{Algebra and Cryptography Assignment 1: Code and Algorithms Part}\n",
    "$$\n",
    "\n",
    "### $$\n",
    "\\text{Chukwuezi Tochukwu Precious}\n",
    "$$\n",
    "\n",
    "$$\n",
    "\\text{March 1, 2025}\n",
    "$$"
   ]
  },
  {
   "cell_type": "markdown",
   "id": "730c74d2",
   "metadata": {},
   "source": [
    "# $\\text{Solutions 1: Inverse Functions of Cyclic Groups}$"
   ]
  },
  {
   "cell_type": "markdown",
   "id": "f0ab6f09",
   "metadata": {},
   "source": [
    "For ease and accuracy in computations, I made this fuction to help me in question Exercise 1.1\n",
    "\n",
    "It solves the inverse of $2$ and $3$ in \n",
    "\n",
    "1. $(2^{-1})^2 \\mod{13}$\n",
    "2. $(3^{-1})^2 \\mod{13}$"
   ]
  },
  {
   "cell_type": "code",
   "execution_count": 279,
   "id": "04e53d96",
   "metadata": {},
   "outputs": [
    {
     "name": "stdout",
     "output_type": "stream",
     "text": [
      "7\n",
      "9\n"
     ]
    }
   ],
   "source": [
    "# Inverse function for Exercise 1.3\n",
    "\n",
    "def a_inverse(a, n):\n",
    "    i = xgcd(n, a)[-1]\n",
    "    i = (i + n)%n\n",
    "    return i\n",
    "\n",
    "\n",
    "print(a_inverse(2, 13))\n",
    "print(a_inverse(3, 13))"
   ]
  },
  {
   "cell_type": "markdown",
   "id": "c07f724b",
   "metadata": {},
   "source": [
    "# $\\text{Solutions 2: Implementation of RSA Cryptosystem}$\n",
    "\n",
    "To implement an encrypt-decrypt system as described in the question below.\n",
    "\n",
    "Bob intercepts from Alice the following encrypted message:\n",
    "\n",
    "$$\n",
    "[427849968240759007228494978639775081809\\\\\n",
    "498308250136673589542748543030806629941\\\\\n",
    "925288105342943743271024837479707225255]\n",
    "$$\n",
    "\n",
    "Alice knows that Bob uses RSA cryptosystem and his public key is $(12398737; n)$ where\n",
    "$$n = 956331992007843552652604425031376690367$$\n",
    "\n",
    "Knowing that Alice and Bob agreed to use RSA cryptosystem to communicate in secret, each\n",
    "message consist of a single letter which is encoded as: $\\text{Space = 00;A = 11;B = 12; ...;Z =\n",
    "36;}$ which message did Alice sent to Bob?"
   ]
  },
  {
   "cell_type": "markdown",
   "id": "d588eb90",
   "metadata": {},
   "source": [
    "### $2.0 \\quad \\text{Useful First Steps}$"
   ]
  },
  {
   "cell_type": "markdown",
   "id": "182fdb85",
   "metadata": {},
   "source": [
    "Firstly, we begin by implementing the useful functions, one of which is the Euler's Totient function."
   ]
  },
  {
   "cell_type": "code",
   "execution_count": 280,
   "id": "10a89dfe",
   "metadata": {},
   "outputs": [],
   "source": [
    "def euler_totient_sage(N):\n",
    "    \"\"\"\n",
    "    Computes phi(N) using SageMath's optimized factorization.\n",
    "    \"\"\"\n",
    "    if N < 1:\n",
    "        print(\"n must be positive!\")\n",
    "        return\n",
    "    if N == 1:\n",
    "        return 1\n",
    "    result = N\n",
    "    for p in prime_divisors(N):\n",
    "        result = result * (p - 1) // p\n",
    "    return result"
   ]
  },
  {
   "cell_type": "markdown",
   "id": "1d91863e",
   "metadata": {},
   "source": [
    "Next, we define n as given in the problem."
   ]
  },
  {
   "cell_type": "code",
   "execution_count": 184,
   "id": "f8e40096",
   "metadata": {},
   "outputs": [],
   "source": [
    "n = 956331992007843552652604425031376690367"
   ]
  },
  {
   "cell_type": "markdown",
   "id": "8a44c29e",
   "metadata": {},
   "source": [
    "### $2.1 \\quad \\text{Computing }\\Phi(n).$"
   ]
  },
  {
   "cell_type": "markdown",
   "id": "f381aacf",
   "metadata": {},
   "source": [
    "We now compute $\\Phi(n)$, the Euler's totient function on $n$, that gives the order of the cycle $\\bigg(\\frac{\\mathbb{Z}}{n\\mathbb{Z}}\\bigg)$"
   ]
  },
  {
   "cell_type": "code",
   "execution_count": 185,
   "id": "01ae6aa0",
   "metadata": {},
   "outputs": [
    {
     "data": {
      "text/plain": [
       "956331992007843552521401346814050873280"
      ]
     },
     "execution_count": 185,
     "metadata": {},
     "output_type": "execute_result"
    }
   ],
   "source": [
    "phi = euler_totient_sage(n)\n",
    "phi"
   ]
  },
  {
   "cell_type": "markdown",
   "id": "c5b34dad",
   "metadata": {},
   "source": [
    "### $2.2 \\quad \\text{Verifying the Exponent of the RSA}$"
   ]
  },
  {
   "cell_type": "code",
   "execution_count": 247,
   "id": "3b722a58",
   "metadata": {},
   "outputs": [
    {
     "data": {
      "text/plain": [
       "1"
      ]
     },
     "execution_count": 247,
     "metadata": {},
     "output_type": "execute_result"
    }
   ],
   "source": [
    "e, n = (12398737, 956331992007843552652604425031376690367)\n",
    "\n",
    "# We then call the inbuilt xgcd function that returns gcd, u and v for au + bv = gcd(a, b)\n",
    "d = xgcd(e, phi)[0]\n",
    "d"
   ]
  },
  {
   "cell_type": "markdown",
   "id": "7d0fb2ee",
   "metadata": {},
   "source": [
    "Since the $\\gcd(e, \\phi(n)) = 1$, the exponent $e$ is a valid exponent of the $RSA$ system."
   ]
  },
  {
   "cell_type": "markdown",
   "id": "129fa0c7",
   "metadata": {},
   "source": [
    "### $2.3 \\quad \\text{Decipherig the Secret Key used to Encrypt the Message}$"
   ]
  },
  {
   "cell_type": "code",
   "execution_count": 248,
   "id": "1e39d772",
   "metadata": {},
   "outputs": [
    {
     "data": {
      "text/plain": [
       "-154575730004375681679140546242099203407"
      ]
     },
     "execution_count": 248,
     "metadata": {},
     "output_type": "execute_result"
    }
   ],
   "source": [
    "sk = xgcd(phi, e)[2]\n",
    "sk"
   ]
  },
  {
   "cell_type": "code",
   "execution_count": 249,
   "id": "dcadb5a4",
   "metadata": {},
   "outputs": [
    {
     "data": {
      "text/plain": [
       "801756262003467870842260800571951669873"
      ]
     },
     "execution_count": 249,
     "metadata": {},
     "output_type": "execute_result"
    }
   ],
   "source": [
    "sk += phi #This is because sk is was negative.\n",
    "sk"
   ]
  },
  {
   "cell_type": "markdown",
   "id": "8fee953a",
   "metadata": {},
   "source": [
    "Having obtained the secret key ($d$ in theory, $sk$ in `code`), we can ensure it satisfies that,\n",
    "$$\n",
    "de \\equiv 1 \\mod \\Phi(n)\n",
    "$$"
   ]
  },
  {
   "cell_type": "code",
   "execution_count": 187,
   "id": "09a4cb75",
   "metadata": {},
   "outputs": [
    {
     "data": {
      "text/plain": [
       "1"
      ]
     },
     "execution_count": 187,
     "metadata": {},
     "output_type": "execute_result"
    }
   ],
   "source": [
    "(sk * e)%phi"
   ]
  },
  {
   "cell_type": "markdown",
   "id": "e5e2b3de",
   "metadata": {},
   "source": [
    "And thus, we have obtained our secret key. We also observe something as shown below. Our secret key has similar length with our $n$."
   ]
  },
  {
   "cell_type": "code",
   "execution_count": 191,
   "id": "ac5e314b",
   "metadata": {},
   "outputs": [
    {
     "data": {
      "text/plain": [
       "True"
      ]
     },
     "execution_count": 191,
     "metadata": {},
     "output_type": "execute_result"
    }
   ],
   "source": [
    "len(str(sk)) == len(str(n))"
   ]
  },
  {
   "cell_type": "markdown",
   "id": "fe05e0bc",
   "metadata": {},
   "source": [
    "### $2.4 \\quad \\text{Decrypting the Encrypted Message}$"
   ]
  },
  {
   "cell_type": "markdown",
   "id": "5532e2dc",
   "metadata": {},
   "source": [
    "Given the encrypted message, we want to see what it holds now we know the public key and the secret key."
   ]
  },
  {
   "cell_type": "code",
   "execution_count": 190,
   "id": "b7b5ad38",
   "metadata": {},
   "outputs": [
    {
     "name": "stdout",
     "output_type": "stream",
     "text": [
      "[427849968240759007228494978639775081809, 498308250136673589542748543030806629941, 925288105342943743271024837479707225255, 95024328800414254907217356783906225740]\n"
     ]
    }
   ],
   "source": [
    "M_encrypt = [427849968240759007228494978639775081809,\n",
    "498308250136673589542748543030806629941,\n",
    "925288105342943743271024837479707225255,\n",
    "95024328800414254907217356783906225740]\n",
    "\n",
    "print(M_encrypt)"
   ]
  },
  {
   "cell_type": "markdown",
   "id": "174c3d37",
   "metadata": {},
   "source": [
    "The next thing we do is to decrypt each chunk of the message, by using the formula:\n",
    "$$\n",
    "M = m^{d} \\mod n\n",
    "$$\n",
    "Where $m$ is an encrpyted chunk, and $d$ is the secret key."
   ]
  },
  {
   "cell_type": "code",
   "execution_count": 192,
   "id": "b55d73ee",
   "metadata": {},
   "outputs": [
    {
     "name": "stdout",
     "output_type": "stream",
     "text": [
      "[30181929001929002335002215303015280030, 25003018150033252822140030181130002415, 32152800332825301500302500231500152319, 223500141913211924292524]\n"
     ]
    }
   ],
   "source": [
    "M_dcrypt = [power_mod(m, sk, n) for m in EM]\n",
    "\n",
    "print(M_dcrypt)"
   ]
  },
  {
   "cell_type": "markdown",
   "id": "2a73c0c2",
   "metadata": {},
   "source": [
    "We can check the lengths of each decrypted message chunk."
   ]
  },
  {
   "cell_type": "code",
   "execution_count": 193,
   "id": "83a7deb8",
   "metadata": {},
   "outputs": [
    {
     "data": {
      "text/plain": [
       "[38, 38, 38, 24]"
      ]
     },
     "execution_count": 193,
     "metadata": {},
     "output_type": "execute_result"
    }
   ],
   "source": [
    "[len(str(e)) for e in M_dcrypt]"
   ]
  },
  {
   "cell_type": "markdown",
   "id": "94e2156b",
   "metadata": {},
   "source": [
    "### $2.5 \\quad \\text{Implementing the Dictionary that Decodes The Message}$"
   ]
  },
  {
   "cell_type": "markdown",
   "id": "677cd092",
   "metadata": {},
   "source": [
    "Two powerful `python` implementations to encode and decode letters is the `ord` and the `chr` functions used to convert from letters to numbers and vice versa respectively."
   ]
  },
  {
   "cell_type": "code",
   "execution_count": 205,
   "id": "91464ddc",
   "metadata": {},
   "outputs": [
    {
     "name": "stdout",
     "output_type": "stream",
     "text": [
      "{'11': 'A', '12': 'B', '13': 'C', '14': 'D', '15': 'E', '16': 'F', '17': 'G', '18': 'H', '19': 'I', '20': 'J', '21': 'K', '22': 'L', '23': 'M', '24': 'N', '25': 'O', '26': 'P', '27': 'Q', '28': 'R', '29': 'S', '30': 'T', '31': 'U', '32': 'V', '33': 'W', '34': 'X', '35': 'Y', '36': 'Z', '00': ' '}\n"
     ]
    }
   ],
   "source": [
    "# Given that orb(\"A\") = 65 and ord(\"Z\") = 90, we implement the algorithm as follows, with shift from [11, 36] to [65, 90]\n",
    "spaces = {\"00\" : \" \"}\n",
    "\n",
    "encode_logic = {f\"{k}\" : chr(k + 65 - 11) for k in range(11, 37)}\n",
    "\n",
    "encode_logic.update(spaces)\n",
    "\n",
    "print(encode_logic)"
   ]
  },
  {
   "cell_type": "markdown",
   "id": "111beca9",
   "metadata": {},
   "source": [
    "Next, we will convert each chunk of the decrpyted message to strings for easy handling."
   ]
  },
  {
   "cell_type": "code",
   "execution_count": 206,
   "id": "8888c436",
   "metadata": {},
   "outputs": [
    {
     "name": "stdout",
     "output_type": "stream",
     "text": [
      "['30181929001929002335002215303015280030', '25003018150033252822140030181130002415', '32152800332825301500302500231500152319', '223500141913211924292524']\n"
     ]
    }
   ],
   "source": [
    "M_as_str = [str(I) for I in DM] # I is the large integer number representing the decrypted message.\n",
    "print(M_as_str)"
   ]
  },
  {
   "cell_type": "code",
   "execution_count": null,
   "id": "06d88f2e",
   "metadata": {},
   "outputs": [],
   "source": [
    "We can now finally define a logic to translate the message and return the final messag"
   ]
  },
  {
   "cell_type": "code",
   "execution_count": 207,
   "id": "5a011fdf",
   "metadata": {},
   "outputs": [],
   "source": [
    "def translate(message_array, dictionary_logic):\n",
    "    \"\"\"\n",
    "    This function receives parameters help translate a decrypted message string to the decoded string\n",
    "    using the dictionay encoding logic.\n",
    "    \n",
    "    Input: \n",
    "        -message_array : String to translate,\n",
    "        -dictionary_logic : The dictionary that houses the logic to decode the numbers (in pairs) in our case\n",
    "        \n",
    "    Output:\n",
    "        -a text containing the translated message.\n",
    "    \"\"\"\n",
    "    text = \"\"\n",
    "    \n",
    "    # Group numbers in two and translate\n",
    "    for message in message_array:\n",
    "        for i in range(0, len(message), 2):\n",
    "            char_key = message[i] + message[i+1] # get the character key for each pair.\n",
    "            text += dictionary_logic[char_key]\n",
    "    return text"
   ]
  },
  {
   "cell_type": "code",
   "execution_count": 217,
   "id": "64d0423d",
   "metadata": {},
   "outputs": [
    {
     "name": "stdout",
     "output_type": "stream",
     "text": [
      "Deciphered: THIS IS MY LETTER TO THE WORLD THAT NEVER WROTE TO ME EMILY DICKINSON\n",
      "\n",
      "\n",
      "Time Taken:\n",
      "\n",
      "CPU times: user 513 µs, sys: 0 ns, total: 513 µs\n",
      "Wall time: 458 µs\n"
     ]
    }
   ],
   "source": [
    "%%time\n",
    "print(F\"Deciphered: {translate(M_as_str, encode_logic)}\")\n",
    "print(\"\\n\\nTime Taken:\\n\")"
   ]
  },
  {
   "cell_type": "markdown",
   "id": "e0364c3a",
   "metadata": {},
   "source": [
    "What a poetic message to encrypt!"
   ]
  },
  {
   "cell_type": "markdown",
   "id": "a9c0489a",
   "metadata": {},
   "source": [
    "# $\\text{Solution 3: Building My Own RSA System}$\n",
    "\n",
    "Create your own public key and private key for $RSA$ cryptosystem. The two prime numbers\n",
    "must have $600$ digits and they have to be safe prime numbers. Then, Set up your own RSA\n",
    "cryptosystem. Demonstrate how a message addressed to you can be encrypted and how you\n",
    "can decrypt it using your private key."
   ]
  },
  {
   "cell_type": "markdown",
   "id": "9849ed0c",
   "metadata": {},
   "source": [
    "### $3.0 \\quad \\text{Implementing All The Useful Algorithms}$"
   ]
  },
  {
   "cell_type": "markdown",
   "id": "2258c6f9",
   "metadata": {},
   "source": [
    "Here, I implement and design some modules/functions to check primality based on Algorithm $3.7$ in the Cryptoschool book used in class."
   ]
  },
  {
   "cell_type": "code",
   "execution_count": 218,
   "id": "02958c1f",
   "metadata": {},
   "outputs": [],
   "source": [
    "import random\n",
    "shuffle = random.SystemRandom()\n",
    "\n",
    "# This fuction uses the Rabin-Miller test to check the primeness of a number just once.\n",
    "# It follows the Algorithm discussed in 3.7, but does the test for only one witness per time. \n",
    "# It uses bitwise operations to speed things up.\n",
    "\n",
    "def is_singly_prime(n, x):\n",
    "    \"\"\"\n",
    "    Determines if n passes the Miller-Rabin primality test for base x.\n",
    "    \n",
    "    Input: n (number to test), x (base)\n",
    "    Output: True if n passes, False otherwise\n",
    "    \"\"\"\n",
    "    e = n - 1\n",
    "    while not e & 1:\n",
    "        e >>= 1  # Divide by 2 until e is odd\n",
    "    if power_mod(x, e, n) == 1:\n",
    "        return True\n",
    "    while e < n - 1:\n",
    "        if power_mod(x, e, n) == n - 1:\n",
    "            return True\n",
    "        e <<= 1  # Multiply by 2 (equivalent to squaring)\n",
    "    return False\n",
    "\n",
    "\n",
    "# This is the main implementation of of the Miller-Rabin test for primality.\n",
    "# A stochastic approach\n",
    "\n",
    "def pseudoprimality_of(n, t=20):\n",
    "    \"\"\"\n",
    "    Performs t iterations of the Miller-Rabin test with random bases.\n",
    "    \n",
    "    Input: n (number to test), t (number of trials)\n",
    "    Output: False if composite is detected, True otherwise\n",
    "    \"\"\"\n",
    "    i = 1\n",
    "    while i <= t:\n",
    "        x = shuffle.randrange(2, n - 1) # witnesses\n",
    "        if not is_singly_prime(n, x):\n",
    "            return False\n",
    "        i += 1\n",
    "    return True\n",
    "\n",
    "\n",
    "# The safe prime algorithm uses tecniques discussed in class and the safe prime algorithm discussed in \n",
    "# 3.24 to ensure in addition the pseudoprimality test algorithm, the prime number returned is safe.\n",
    "\n",
    "def is_safe_prime(p):\n",
    "    \"\"\"\n",
    "    Given a prime number p, this function tests if the prime number satisfies p = 2l + 1, where l is prime.\n",
    "    In other words, if (p - 1)/2 is prime, or in most cases, a product of primes (around 2), then p is safe.\n",
    "    \"\"\"\n",
    "    l = (p - 1) >> 1  # Compute l = (p-1)/2\n",
    "    return pseudoprimality_of(p, 10) and pseudoprimality_of(l, 10)\n",
    "\n",
    "\n",
    "# The generation of prime numbers uses the Rabin Miller Pseudoprimality test in conjunction with the safe prime number test\n",
    "# to generate a large prime number with n_bits of base 2 digits which is <= 2^(nbits + 1) - 1\n",
    "\n",
    "    \n",
    "def generate_large_safe_prime(n_bits):\n",
    "    \"\"\"\n",
    "    Generates a probable prime with n_bits+1 bits (due to original code's logic).\n",
    "    \n",
    "    Input: n_bits (target bit-length minus one)\n",
    "    Output: A probable prime number\n",
    "    \"\"\"\n",
    "    while True:\n",
    "        # Generates an odd number in the range [2^(n_bits)+1, 2^(n_bits+1)-1]\n",
    "        primeN = (shuffle.randrange(1 << (n_bits - 1), 1 << n_bits) << 1) + 1\n",
    "        \n",
    "        if is_safe_prime(primeN):\n",
    "            return primeN\n",
    "\n",
    "# Finally, I implemented a functionality to display the prime numbers gotten in a more presentable way.\n",
    "\n",
    "def display_prime(*any):\n",
    "    \"\"\"This Function Helps us display our safe prime number\"\"\"\n",
    "    \n",
    "    for prime in any:\n",
    "        print(f\"The safe prime number is:\\n\")\n",
    "        print(prime)\n",
    "        print(\"\\t\")\n",
    "        print(f\"\\nIt's length is {len(str(prime))}\")"
   ]
  },
  {
   "cell_type": "markdown",
   "id": "2511eacb",
   "metadata": {},
   "source": [
    "### $3.1 \\quad \\text{Generating The Two Prime Numbers, the Public Key (e, N) and the Secret Key (d)}$"
   ]
  },
  {
   "cell_type": "markdown",
   "id": "dba06c7a",
   "metadata": {},
   "source": [
    "The two prime numbers $pq = N$ representing the public key $(e, N)$ each have $600$ decimal digits, equivalent to $1992$ base $2$ bits.\n",
    "\n",
    "In general, the public key is of the form:\n",
    "$\n",
    "(e, N)\n",
    "$\n",
    "\n",
    "Where $e$ is the exponent and $N$ the public key parameter is analogous to $n$ previously encountered in Solution $2$."
   ]
  },
  {
   "cell_type": "markdown",
   "id": "0d532cbd",
   "metadata": {},
   "source": [
    "### $3.2 \\quad \\text{Generating $p$, $q$ and $N$}$"
   ]
  },
  {
   "cell_type": "markdown",
   "id": "ade85eec",
   "metadata": {},
   "source": [
    "To we first generate the primes p and q with the algorithms above."
   ]
  },
  {
   "cell_type": "code",
   "execution_count": 161,
   "id": "5690f36a",
   "metadata": {},
   "outputs": [
    {
     "name": "stdout",
     "output_type": "stream",
     "text": [
      "The prime number is:\n",
      "\n",
      "493644220098836803634031028467830307425986257960539824377485078506203132829751630881054548618868101722879012609267713585555527703110921872160464014698569921623442519850559468151131795633281160978780925697641569511910320276829043685429912228406379593885901280607216010970016889104930876539623100734421686775486198987435851068031214360512997620566113643578220695779320331455521450613746912907252315995230386288353945499836210924564631851878183158719594301775691467961086047507318074162793934485878305681400220922871677234626363869042613080265650142804541634884410144816245683722033771757628103239932787\n",
      "\t\n",
      "\n",
      "It's length is 600\n",
      "CPU times: user 19min 43s, sys: 517 ms, total: 19min 44s\n",
      "Wall time: 19min 44s\n"
     ]
    }
   ],
   "source": [
    "%%time\n",
    "p = generate_large_safe_prime(1992)\n",
    "display_prime(p)"
   ]
  },
  {
   "cell_type": "code",
   "execution_count": 225,
   "id": "664d4ada",
   "metadata": {},
   "outputs": [
    {
     "name": "stdout",
     "output_type": "stream",
     "text": [
      "CPU times: user 23.1 s, sys: 50.1 ms, total: 23.2 s\n",
      "Wall time: 23 s\n"
     ]
    },
    {
     "data": {
      "text/plain": [
       "True"
      ]
     },
     "execution_count": 225,
     "metadata": {},
     "output_type": "execute_result"
    }
   ],
   "source": [
    "%%time\n",
    "\n",
    "is_prime(p)"
   ]
  },
  {
   "cell_type": "code",
   "execution_count": 163,
   "id": "36ea53d2",
   "metadata": {},
   "outputs": [
    {
     "name": "stdout",
     "output_type": "stream",
     "text": [
      "The prime number is:\n",
      "\n",
      "534085579822278606703655558848960547656496842925378871617229425348509158806695066049058310481882206654866152722110593117898402285264397964991038543246345577760302623712365488581429835047923019779974620298287663455478598435384026103996382245993865960292911587827358451485005377034211877660484293701329811715046469345136682901986523554204569990365041753372631510726647850737259149253379953735346023559208243971783831393030897165997831191041268175847768635484717621394967486701448646396560457167921612916191324483099292665474911147814434525283358281145542841091585857142755518185934842581951308368215187\n",
      "\t\n",
      "\n",
      "It's length is 600\n",
      "CPU times: user 1h 14min 39s, sys: 2.05 s, total: 1h 14min 41s\n",
      "Wall time: 1h 14min 41s\n"
     ]
    }
   ],
   "source": [
    "%%time\n",
    "q = generate_large_safe_prime(1992)\n",
    "display_prime(q)"
   ]
  },
  {
   "cell_type": "code",
   "execution_count": 226,
   "id": "76846866",
   "metadata": {},
   "outputs": [
    {
     "name": "stdout",
     "output_type": "stream",
     "text": [
      "CPU times: user 33.4 s, sys: 190 ms, total: 33.6 s\n",
      "Wall time: 33.2 s\n"
     ]
    },
    {
     "data": {
      "text/plain": [
       "True"
      ]
     },
     "execution_count": 226,
     "metadata": {},
     "output_type": "execute_result"
    }
   ],
   "source": [
    "%%time\n",
    "\n",
    "is_prime(q)"
   ]
  },
  {
   "cell_type": "markdown",
   "id": "c63a1967",
   "metadata": {},
   "source": [
    "Having generated the public and private keys, and have checked that they are both primes (safe prime, after passing the tests in the aloorithms), we can now define $N = pq$."
   ]
  },
  {
   "cell_type": "code",
   "execution_count": 228,
   "id": "df7414e0",
   "metadata": {},
   "outputs": [
    {
     "name": "stdout",
     "output_type": "stream",
     "text": [
      "CPU times: user 64 µs, sys: 0 ns, total: 64 µs\n",
      "Wall time: 95.1 µs\n"
     ]
    },
    {
     "data": {
      "text/plain": [
       "263648259517403773005574974623099694519242981289660510224866558233017292196979668769699037269807070603711613563651490830815472159500810431481792281248182052162103866972948286628870865130179629590563720781271832238762274099124192775858532874298022180586008986810396861388764749819485697239969162071349193993775400718451904008872952731854749140612331494709950587029736781095788250318935978801148733819576160814071817218707714378184623869958800289179790276542903607288633003210820757380300793346355220675287129487393916359910856285199480957876274916622329864242561917028657036431048920661099346801866769859362746366447759994573384919772259313165993143402089391398310527168249389241486714988670767560228022619875195365054830342836772866857367235940403355660595865405916875047795035022578554341742783627756409823239710638830338528438369978579162714585108217637936215664509729208070709970647531990922380044623340445182536759169948612116458768206506292548848653939947684488549600683255485037329302055588278879188548680352400515357433079014834343847226321068793295194615195444584434412708461240920639512515726042586856222635428808716475795918056121605810050866279669189032928221911787552927937682553032636169"
      ]
     },
     "execution_count": 228,
     "metadata": {},
     "output_type": "execute_result"
    }
   ],
   "source": [
    "%%time\n",
    "N = p*q #Public Key\n",
    "\n",
    "N"
   ]
  },
  {
   "cell_type": "markdown",
   "id": "6dee6169",
   "metadata": {},
   "source": [
    "### $3.3 \\quad \\text{The Public Key}$"
   ]
  },
  {
   "cell_type": "markdown",
   "id": "4c69ac57",
   "metadata": {},
   "source": [
    "For the exponent of the public key, we choose $e = 5$, hence\n",
    "$$\n",
    "\\text{Public key} : (5, N)\n",
    "$$\n",
    "\n",
    "Where, $$ N = pq$$\n",
    "\n",
    "We have to also ensure that for $e = 5$,\n",
    "\n",
    "$$\n",
    "\\gcd(e, \\Phi(N)) = 1\n",
    "$$\n",
    "\n",
    "The demonstration is shown below."
   ]
  },
  {
   "cell_type": "code",
   "execution_count": 255,
   "id": "6a1e7eab",
   "metadata": {},
   "outputs": [
    {
     "name": "stdout",
     "output_type": "stream",
     "text": [
      "CPU times: user 63 µs, sys: 0 ns, total: 63 µs\n",
      "Wall time: 67.5 µs\n"
     ]
    },
    {
     "data": {
      "text/plain": [
       "263648259517403773005574974623099694519242981289660510224866558233017292196979668769699037269807070603711613563651490830815472159500810431481792281248182052162103866972948286628870865130179629590563720781271832238762274099124192775858532874298022180586008986810396861388764749819485697239969162071349193993775400718451904008872952731854749140612331494709950587029736781095788250318935978801148733819576160814071817218707714378184623869958800289179790276542903607288633003210820757380300793346355220675287129487393916359910856285199480957876274916622329864242561917028657036431048920661099346801866768831632946445332349656886797602981404230682892257483393396683806672455957752794789784875811666809919644874709863986748126888906784491537530084437845410745096481660773312122838302460947873137562024872210413894006743249911626315368580552284688314339554038825067781090047274185804570827893331883527944293124849912514204186635978594378544050638895361393451703087741178520367407902655617910462659457248724440558288542575507648249342516551791424395891753705856034785525839391050225645987901886528985712597128451041450251665528707441458938870450572597386100781803693193030969220709879584313598103141424488196"
      ]
     },
     "execution_count": 255,
     "metadata": {},
     "output_type": "execute_result"
    }
   ],
   "source": [
    "%%time\n",
    "phin = (p - 1)*(q - 1) #euler_totient_sage(N)\n",
    "phin"
   ]
  },
  {
   "cell_type": "code",
   "execution_count": 256,
   "id": "40df4877",
   "metadata": {},
   "outputs": [
    {
     "data": {
      "text/plain": [
       "1"
      ]
     },
     "execution_count": 256,
     "metadata": {},
     "output_type": "execute_result"
    }
   ],
   "source": [
    "# We want to show that the exponent 5 is an exponent of the RSA we are building.\n",
    "e = 5\n",
    "gcd  = xgcd(e, phin)[0]\n",
    "gcd"
   ]
  },
  {
   "cell_type": "markdown",
   "id": "0344bfed",
   "metadata": {},
   "source": [
    "Hence $e = 5$ forms a good choice for the exponent of our $RSA$ since $\\gcd(5, \\Phi(N)) = 1$."
   ]
  },
  {
   "cell_type": "markdown",
   "id": "9f558865",
   "metadata": {},
   "source": [
    "### $3.4 \\quad \\text{The Secret Key}$"
   ]
  },
  {
   "cell_type": "markdown",
   "id": "c973272f",
   "metadata": {},
   "source": [
    " We can solve for d (secret key) by finding the value of v satisfying:\n",
    " $$\n",
    " \\Phi(N) u + ev = 1\n",
    " $$"
   ]
  },
  {
   "cell_type": "code",
   "execution_count": 262,
   "id": "e7fd4e5e",
   "metadata": {},
   "outputs": [
    {
     "data": {
      "text/plain": [
       "210918607613923018404459979698479755615394385031728408179893246586413833757583735015759229815845656482969290850921192664652377727600648345185433824998545641729683093578358629303096692104143703672450976625017465791009819279299354220686826299438417744468807189448317489111011799855588557791975329657079355195020320574761523207098362185483799312489865195767960469623789424876630600255148783040918987055660928651257453774966171502547699095967040231343832221234322885830906402568656605904240634677084176540229703589915133087928685028159584766301019933297863891394049533622925629144839136528879477441493415065306357156265879725509438082385123384546313805986714717347045337964766202235831827900649333447935715899767891189398501511125427593230024067550276328596077185328618649698270641968758298510049619897768331115205394599929301052294864441827750651471643231060054224872037819348643656662314665506822355434499879930011363349308782875502835240511116289114761362470192942816293926322124494328370127565798979552446630834060406118599474013241433139516713402964684827828420671512840180516790321509223188570077702760833160201332422965953167151096360458077908880625442954554424775376567903667450878482513139590557"
      ]
     },
     "execution_count": 262,
     "metadata": {},
     "output_type": "execute_result"
    }
   ],
   "source": [
    "d_sk =  xgcd(phin, e)[2]\n",
    "d_sk += phin\n",
    "d_sk"
   ]
  },
  {
   "cell_type": "markdown",
   "id": "6a2a964f",
   "metadata": {},
   "source": [
    "if d is the private key, then it should satisfy\n",
    "\n",
    "$$\n",
    "ed \\equiv 1 \\mod \\Phi(p)\n",
    "$$\n",
    "\n",
    "Evaluating this value with $e = 5$,"
   ]
  },
  {
   "cell_type": "code",
   "execution_count": 263,
   "id": "1b21f220",
   "metadata": {},
   "outputs": [
    {
     "data": {
      "text/plain": [
       "1"
      ]
     },
     "execution_count": 263,
     "metadata": {},
     "output_type": "execute_result"
    }
   ],
   "source": [
    "power_mod(e*d_sk, 1, phin)"
   ]
  },
  {
   "cell_type": "markdown",
   "id": "9865f413",
   "metadata": {},
   "source": [
    "### $3.5 \\quad \\text{The Encryption Function}$"
   ]
  },
  {
   "cell_type": "markdown",
   "id": "59cd41a1",
   "metadata": {},
   "source": [
    "We define our encription function as\n",
    "\n",
    "\\begin{align*}\n",
    "f : &M \\rightarrow M\\\\\n",
    "&m \\mapsto m^{e} \\mod N\n",
    "\\end{align*}"
   ]
  },
  {
   "cell_type": "markdown",
   "id": "89f30195",
   "metadata": {},
   "source": [
    "So let $m = 15678822656$ be addressed to me. It's encrypted version is $f(m)$, given in the code below"
   ]
  },
  {
   "cell_type": "code",
   "execution_count": 272,
   "id": "25a2d991",
   "metadata": {},
   "outputs": [
    {
     "data": {
      "text/plain": [
       "947473864525952903487247265785497626718136514379776"
      ]
     },
     "execution_count": 272,
     "metadata": {},
     "output_type": "execute_result"
    }
   ],
   "source": [
    "def f(m):\n",
    "    \"\"\"\n",
    "    Encrypts data using:\n",
    "    \n",
    "    Input: m (message to encrypt)\n",
    "    Defaults: e (exponent of RSA), N = public key parameter.\n",
    "    \n",
    "    Output: c (message encrypted)\n",
    "    \"\"\"\n",
    "    return power_mod(m, e, N)\n",
    "\n",
    "m = 15678822656\n",
    "c = f(m)\n",
    "c"
   ]
  },
  {
   "cell_type": "markdown",
   "id": "b1d5d6aa",
   "metadata": {},
   "source": [
    "This means that the encrypted message will be as shown above."
   ]
  },
  {
   "cell_type": "markdown",
   "id": "c23b380b",
   "metadata": {},
   "source": [
    "### $3.6 \\quad \\text{The Decryption Function}$"
   ]
  },
  {
   "cell_type": "markdown",
   "id": "2c685502",
   "metadata": {},
   "source": [
    "Given a secret key $d$, and $f(m) = c$, we define the decryption functionality as\n",
    "\n",
    "\\begin{align*}\n",
    "f^{-1} : &M \\rightarrow M\\\\\n",
    "&c \\mapsto c^{d} \\mod N\n",
    "\\end{align*}\n",
    "\n",
    "Where $g = f^{-1}(c)$.\n",
    "\n",
    "So given that $f(m)$ was evaluated, we can now define the inverse fuction as follows:"
   ]
  },
  {
   "cell_type": "code",
   "execution_count": 274,
   "id": "cc390532",
   "metadata": {},
   "outputs": [
    {
     "data": {
      "text/plain": [
       "15678822656"
      ]
     },
     "execution_count": 274,
     "metadata": {},
     "output_type": "execute_result"
    }
   ],
   "source": [
    "def g(c):\n",
    "    \"\"\"\n",
    "    Decrypts data using:\n",
    "    \n",
    "    Input: c (cyphered or encrypted message)\n",
    "    Defaults: d (inverse of exponent of RSA, secret key), N = public key parameter.\n",
    "    \n",
    "    Output: c (message encrypted)\n",
    "    \"\"\"\n",
    "    return power_mod(c, d_sk, N)\n",
    "\n",
    "g(c)"
   ]
  },
  {
   "cell_type": "markdown",
   "id": "2e96cb26",
   "metadata": {},
   "source": [
    "Which is exactly the value we chose for m. What a way to encrypt data. I only hope it's secured enough!"
   ]
  },
  {
   "cell_type": "markdown",
   "id": "91d922dc",
   "metadata": {},
   "source": [
    "### $3.7\\quad \\text{Using my New Keys on the Exercise 2}$"
   ]
  },
  {
   "cell_type": "code",
   "execution_count": 282,
   "id": "24cc4d1c",
   "metadata": {},
   "outputs": [
    {
     "data": {
      "text/plain": [
       "[25045803319645369664432632248425344220082801105181336957700808781923826707405998313417149257072705637274251939434825708370515872825501411285691736170684425082128906122282184379884024300000,\n",
       " 9771521247772667305066514540542737080508947142199134475758860204568973023708845011060814459823271365184034817282657456540473316091105046081614496518686846897724562116178050204390258259375,\n",
       " 34363233081756891694362885263365779757593402880768961921355033656654704148543821174718384609471833802096777009002717944119267474648520578792330690102665572512413809698622789684569053017599,\n",
       " 557685067624806149506455903881717575803941402664282280529826728148382511176235805085043448294809002269852616350362624]"
      ]
     },
     "execution_count": 282,
     "metadata": {},
     "output_type": "execute_result"
    }
   ],
   "source": [
    "encrypted_2 = list(map(lambda m : f(m), M_dcrypt))\n",
    "\n",
    "encrypted_2"
   ]
  },
  {
   "cell_type": "code",
   "execution_count": 283,
   "id": "3035d989",
   "metadata": {},
   "outputs": [
    {
     "data": {
      "text/plain": [
       "[30181929001929002335002215303015280030,\n",
       " 25003018150033252822140030181130002415,\n",
       " 32152800332825301500302500231500152319,\n",
       " 223500141913211924292524]"
      ]
     },
     "execution_count": 283,
     "metadata": {},
     "output_type": "execute_result"
    }
   ],
   "source": [
    "decrypted_2 = list(map(lambda c : g(c), encrypted_2))\n",
    "\n",
    "decrypted_2"
   ]
  },
  {
   "cell_type": "code",
   "execution_count": 284,
   "id": "ae9dc48a",
   "metadata": {},
   "outputs": [
    {
     "name": "stdout",
     "output_type": "stream",
     "text": [
      "Deciphered: THIS IS MY LETTER TO THE WORLD THAT NEVER WROTE TO ME EMILY DICKINSON\n",
      "\n",
      "\n",
      "Time Taken:\n",
      "\n",
      "CPU times: user 8.9 ms, sys: 0 ns, total: 8.9 ms\n",
      "Wall time: 8.7 ms\n"
     ]
    }
   ],
   "source": [
    "%%time\n",
    "print(F\"Deciphered: {translate([str(m) for m in decrypted_2], encode_logic)}\")\n",
    "print(\"\\n\\nTime Taken:\\n\")"
   ]
  }
 ],
 "metadata": {
  "kernelspec": {
   "display_name": "SageMath 9.5",
   "language": "sage",
   "name": "sagemath"
  },
  "language_info": {
   "codemirror_mode": {
    "name": "ipython",
    "version": 3
   },
   "file_extension": ".py",
   "mimetype": "text/x-python",
   "name": "python",
   "nbconvert_exporter": "python",
   "pygments_lexer": "ipython3",
   "version": "3.10.12"
  }
 },
 "nbformat": 4,
 "nbformat_minor": 5
}
