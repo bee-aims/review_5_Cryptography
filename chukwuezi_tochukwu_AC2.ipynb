{
 "cells": [
  {
   "cell_type": "markdown",
   "id": "8f9bc821",
   "metadata": {},
   "source": [
    "# $$ \\textbf{African Institute for Mathematical Sciences, Rwanda} $$"
   ]
  },
  {
   "cell_type": "markdown",
   "id": "2d8c0d21",
   "metadata": {},
   "source": [
    "## $$ \\textbf{Algebra and Cryptography Assignment 2} $$"
   ]
  },
  {
   "cell_type": "markdown",
   "id": "31eaa84c",
   "metadata": {},
   "source": [
    "### $$ \\text{Chukwuezi Tochukwu Precious} $$"
   ]
  },
  {
   "cell_type": "markdown",
   "id": "247bc812",
   "metadata": {},
   "source": [
    "#### $$ \\text{March 8, 2025} $$"
   ]
  },
  {
   "cell_type": "markdown",
   "id": "e2391ffe",
   "metadata": {},
   "source": [
    "# $\\text{Useful Modules}$"
   ]
  },
  {
   "cell_type": "code",
   "execution_count": 49,
   "id": "b94851ec",
   "metadata": {},
   "outputs": [],
   "source": [
    "#0 Sieve of Erastosthenes for finding the kth prime number in a range n = klnk\n",
    "def sieve_of_eratosthenes(n, kth):\n",
    "    prime = [True for i in range(n+1)]\n",
    "    p = 2\n",
    "    while (p * p <= n):\n",
    "        if (prime[p] == True):\n",
    " \n",
    "            # Update all multiples of p\n",
    "            for i in range(p * p, n+1, p):\n",
    "                prime[i] = False\n",
    "        p += 1\n",
    " \n",
    "    # Print all prime numbers\n",
    "    k = 0\n",
    "    for p in range(2, n+1):\n",
    "        if prime[p]:\n",
    "            k += 1\n",
    "        if k == kth:\n",
    "            return p\n",
    "\n",
    "#0.1 For finding the number of prime numbers between m and n, for m > n.      \n",
    "def sieve_of_eratosthenes_between(m, n):\n",
    "    if m < n:\n",
    "        return \"You must put the bigger number first.\"\n",
    "    \n",
    "    prime = [True for i in range(m+1)]\n",
    "    p = 2\n",
    "    while (p * p <= m):\n",
    "        if (prime[p] == True):\n",
    " \n",
    "            # Update all multiples of p\n",
    "            for i in range(p * p, m+1, p):\n",
    "                prime[i] = False\n",
    "        p += 1\n",
    " \n",
    "    # log prime numbers\n",
    "    count_to_n = 0\n",
    "    count_to_m = 0\n",
    "    for p in range(2, m+1):\n",
    "        if prime[p] and p <= m: #counts primes less or equal to m\n",
    "            count_to_m += 1\n",
    "        if prime[p] and p <= n: # countr primes less or equal to n\n",
    "            count_to_n += 1\n",
    "    \n",
    "    d = count_to_m - count_to_n\n",
    "    return {\n",
    "        \"difference\" : d, \n",
    "        f\"# of primes up to {m}\" : count_to_m,\n",
    "        f\"# of primes up to {n}\" :count_to_n\n",
    "    }\n",
    "    return f\"There are {count_to_m} primes up to {m} and {count_to_n} primes up to {n}. So the primes between them are exactly {d}.\"\n",
    "\n",
    "#1 Extended Euclidean Algorithm\n",
    "def EEA(a, b):\n",
    "    \"\"\"My implementation uses r as the pivot\"\"\"\n",
    "    # r = [max(a, b), min(a, b), max(a, b) % min(a, b)]\n",
    "    r = [a, b, a % b]\n",
    "    # r = [max(a, b), min(a, b)]\n",
    "    u = [1, 0]\n",
    "    v = [0, 1]\n",
    "    q = [0, 0]\n",
    "    k = 2\n",
    "    while r[k]!= 0:\n",
    "        \n",
    "        # Add Quotiend and Remainder\n",
    "        q.append(r[k-2] // r[k-1])\n",
    "\n",
    "        #update v and u\n",
    "        u.append(u[k-2] - u[k-1]*q[k])\n",
    "        v.append(v[k-2] - v[k-1]*q[k])\n",
    "\n",
    "        # Update r\n",
    "        r.append(r[k-1]%r[k])\n",
    "\n",
    "        # Increament\n",
    "        k += 1\n",
    "        \n",
    "    if v[k-1] < 0:\n",
    "        v[k-1] = (v[k-1] + a)%a\n",
    "\n",
    "    \n",
    "    return r[k-1], u[k-1], v[k-1]\n",
    "\n",
    "#2. Generator Test Function\n",
    "def is_generator(o_G, G, g):\n",
    "        p_list = list(map(lambda x: x[0], factor(o_G)))\n",
    "        test = all([not (power_mod(g, o_G//b, G) == 1) for b in p_list])\n",
    "        return test\n",
    "    \n",
    "# is_generator(20, 25, 16)\n",
    "\n",
    "#3. Order Test Function\n",
    "def order_of(G):\n",
    "    p_list = list(map(lambda x: x[0], factor(G)))\n",
    "    prod = G\n",
    "    for p in p_list:\n",
    "        prod *= (1 - 1/p)\n",
    "    return int(prod)\n",
    "\n",
    "# order_of(210)\n",
    "\n",
    "#4 Chinese Remainder Function\n",
    "def chs_remainder(a, n, b, m):\n",
    "    if not (EEA(n, m)[0] == 1):\n",
    "        print(\"Invalid Inputs on m and n. They must be coprime\")\n",
    "        return\n",
    "    else:\n",
    "        _, u, v = EEA(n, m)\n",
    "        S = b*u*n + a*v*m\n",
    "        X = S % (m*n)\n",
    "        return X, m*n\n",
    "# chs_remainder(1, 6, 3, 5)\n",
    "\n",
    "#5 Babysteps Giant Steps Algorithm    \n",
    "def baby_steps_alg(g,x,d,G):\n",
    "    \"Application of Baby_Steps Algorithm Implemented in Class\"\n",
    "    \n",
    "    m = ceil(sqrt(d))\n",
    "    \n",
    "    # Formation of the baby_steps\n",
    "    baby_steps = [x]\n",
    "    \n",
    "    for idx in range(1, m+1):\n",
    "        baby_steps.append(power_mod(baby_steps[idx-1]*g, 1, G))\n",
    "    k1 = EEA(G, x)[2]\n",
    "    last = baby_steps[-1]\n",
    "    gm = power_mod(last*k1, 1, G)\n",
    "    giant_steps = [1]\n",
    "    i = 0 # index of collision\n",
    "    j = 0\n",
    "    \n",
    "    for idx in range(1, m+1):\n",
    "        if giant_steps[idx-1] in baby_steps:\n",
    "            i = idx-1\n",
    "            j = baby_steps.index(giant_steps[i])\n",
    "            break\n",
    "        giant_steps.append(power_mod(giant_steps[idx-1]*gm, 1, G))\n",
    "        \n",
    "        if giant_steps[idx] in baby_steps:\n",
    "            i = idx\n",
    "            j = baby_steps.index(giant_steps[i])\n",
    "            break\n",
    "    \n",
    "    return baby_steps, giant_steps, i, j, power_mod(i*m - j, 1, d)\n",
    "\n",
    "# baby_steps_alg(2, 17, 20, 25)\n",
    "\n",
    "#4. Discrete Log Function (Trian and Error Version for Small p)\n",
    "def trial_and_error(b, a, p, max_iter = 1000):\n",
    "    \n",
    "    x = 0\n",
    "    counter = 0\n",
    "    \n",
    "    for i in range(0, max_iter+1):\n",
    "        counter += 1\n",
    "        if power_mod(b, i, p) == a:\n",
    "            x = i\n",
    "            return f\"dlog_{b}({a}) = {x} in Z_{p}, after {counter} iterations\"\n",
    "    return \"Time Out\", \n",
    "\n",
    "\n",
    "#5 Discrete logs, Advanced (Pollig-Hellman)\n",
    "def pollig_hellman_ones(g, x, p):\n",
    "    from functools import reduce\n",
    "    \n",
    "    factor_list = list(factor(p-1))\n",
    "    factor_primes = [f[0] for f in factor_list]\n",
    "    factor_powers = [f[1] for f in factor_list]\n",
    "    \n",
    "    gi = []\n",
    "    xi = []\n",
    "    mi = []\n",
    "    \n",
    "    if all(e == 1 for e in factor_powers):\n",
    "               \n",
    "        for i in range(len(factor_list)):\n",
    "            \n",
    "            gi.append(power_mod(g, (p-1)//factor_primes[i], p))\n",
    "            xi.append(power_mod(x, (p-1)//factor_primes[i], p))\n",
    "            mi.append((baby_steps_alg(gi[i], xi[i], factor_primes[i], p)[-1], factor_primes[i]))\n",
    "            \n",
    "    \n",
    "        # Implementing the Chinese Remainder\n",
    "        a = list(reduce(lambda a, b : chs_remainder(a[0], a[1], b[0], b[1]), mi))\n",
    "\n",
    "        return a\n",
    "\n",
    "\n",
    "def pollig_hellman_singles(g, x, p, q=1):\n",
    "    \n",
    "    factor_list = list(factor(p-1))\n",
    "    pf = q #a prime factor of p\n",
    "    e = next(e for q1, e in factor_list if q1 == q)\n",
    "    \n",
    "    ai = []\n",
    "    hi = []\n",
    "    xi = [x]\n",
    "    \n",
    "    h = power_mod(g, pf^(e - 1), p)\n",
    "    g_inverse = EEA(p, g)[2]\n",
    "    \n",
    "    for i in range(1, e+1):\n",
    "        ai.append(baby_steps_alg(h, power_mod(xi[i-1], pf^(e - i), p), pf, p)[-1])\n",
    "        xi.append(power_mod(xi[i-1]*g_inverse^(ai[i-1]*pf^(i-1)), 1, p))\n",
    "    \n",
    "    a = 0\n",
    "    for j in range(e):\n",
    "        a = a + power_mod(ai[j]*pf^j, 1, p)\n",
    "    return a\n",
    "\n",
    "\n",
    "def pollig_hellman_general(g, x, p):\n",
    "    from functools import reduce\n",
    "    \"\"\"General Pollig-Hellman algorithm for any cyclic group of order p-1\"\"\"\n",
    "    factor_list = list(factor(p-1))\n",
    "    mi = []\n",
    "\n",
    "    for q, e in factor_list:\n",
    "        q_e = q^e\n",
    "        g_i = power_mod(g, (p-1) // q_e, p)\n",
    "        x_i = power_mod(x, (p-1) // q_e, p)\n",
    "        dlog_i = pollig_hellman_singles(g_i, x_i, p, q)\n",
    "        mi.append((dlog_i, q_e))\n",
    "\n",
    "    # Reduce using Chinese Remainder Theorem\n",
    "    return reduce(lambda a, b: chs_remainder(a[0], a[1], b[0], b[1]), mi)\n",
    "\n",
    "\n",
    "# print(pollig_hellman_ones(2, 10, 211))\n",
    "# print(pollig_hellman_singles(3, 7, 2^4 + 1, 2))  # if q is not a prime factor of p, there will be an error.\n",
    "# print(pollig_hellman_general(7, 6, pt))\n",
    "\n",
    "\n",
    "###########################################################################################################################\n",
    "# MODULES FOR PRIMES \n",
    "###########################################################################################################################\n",
    "import random\n",
    "\n",
    "def is_primed(n, k=128):\n",
    "    \"\"\"\n",
    "    Miller-Rabin primality test to check if n is prime.\n",
    "\n",
    "    Args:\n",
    "        n (int): The number to test.\n",
    "        k (int): Number of iterations for accuracy.\n",
    "\n",
    "    Returns:\n",
    "        bool: True if prime, False otherwise.\n",
    "    \"\"\"\n",
    "    if n in (2, 3):\n",
    "        return True\n",
    "    if n < 2 or n % 2 == 0:\n",
    "        return False\n",
    "\n",
    "    # Express (n - 1) as (2^s) * r, with r odd\n",
    "    s, r = 0, n - 1\n",
    "    while r % 2 == 0:\n",
    "        s += 1\n",
    "        r //= 2\n",
    "\n",
    "    # Perform Miller-Rabin test\n",
    "    for _ in range(k):\n",
    "        a = random.randrange(2, n - 1)\n",
    "        x = pow(a, r, n)\n",
    "        if x in (1, n - 1):\n",
    "            continue\n",
    "\n",
    "        for _ in range(s - 1):\n",
    "            x = pow(x, 2, n)\n",
    "            if x == n - 1:\n",
    "                break\n",
    "        else:\n",
    "            return False  # Composite found\n",
    "\n",
    "    return True  # Probably prime\n",
    "\n",
    "def generate_prime(bits):\n",
    "    \"\"\"\n",
    "    Generate a prime number of the given bit length.\n",
    "\n",
    "    Args:\n",
    "        bits (int): Number of bits.\n",
    "\n",
    "    Returns:\n",
    "        int: A prime number.\n",
    "    \"\"\"\n",
    "    while True:\n",
    "        candidate = random.getrandbits(bits)\n",
    "        candidate |= (1 << bits - 1) | 1  # Ensure MSB and LSB are 1\n",
    "        if is_primed(candidate, k=128):\n",
    "            return candidate\n",
    "\n",
    "def generate_special_prime(bits=1024):\n",
    "    \"\"\"\n",
    "    Generate a prime number p = 2 * p1 * p2 + 1 where p1 and p2 are prime, \n",
    "    satisfying p1 < p2 < p1^3.\n",
    "\n",
    "    Args:\n",
    "        bits (int): Bit length of the target prime p.\n",
    "\n",
    "    Returns:\n",
    "        (int, int, int): The prime p and its prime factors (p1, p2).\n",
    "    \"\"\"\n",
    "    while True:\n",
    "        p1 = generate_prime(bits // 4)  # Smaller prime factor\n",
    "        upper_bound = min(p1**3, 2**(bits // 2))  # Ensure p2 < p1^3\n",
    "        while True:\n",
    "            p2 = generate_prime(random.randint(bits // 4, bits // 2))\n",
    "            if p1 < p2 < upper_bound:\n",
    "                break\n",
    "\n",
    "        p = 2 * p1 * p2 + 1\n",
    "        if is_primed(p, k=128):\n",
    "            return p, p1, p2  # Return prime and its factors"
   ]
  },
  {
   "cell_type": "markdown",
   "id": "78890799",
   "metadata": {},
   "source": [
    "# $\\textbf{Solutions 1.4}$"
   ]
  },
  {
   "cell_type": "markdown",
   "id": "b237ae02",
   "metadata": {},
   "source": [
    "Use the Eratosthenes sieve to find the $(5000000 + n)$-th prime number where $n$ is your birthday (mmddyy). How many prime numbers do we have between $2^{25}$ and $2^{26}$?"
   ]
  },
  {
   "cell_type": "markdown",
   "id": "ea36bdfb",
   "metadata": {},
   "source": [
    "### $1.4a \\quad \\textbf{The $(5000000 + n)^{th}$ Prime Number}$"
   ]
  },
  {
   "cell_type": "markdown",
   "id": "6db590a2",
   "metadata": {},
   "source": [
    "Using the formula\n",
    "\n",
    "$$\n",
    "\\pi(x) = \\frac{x}{\\ln{x}}\n",
    "$$\n",
    "\n",
    "Where $\\pi(x)$ is approximately the number of prime numbers up to $x$ when $x$ is large.\n",
    "\n",
    "And the formula\n",
    "\n",
    "$$\n",
    "R = \\lceil N\\ln{N}\\rceil\n",
    "$$\n",
    "\n",
    "$R$ denotes the search range wide enough to find the $N^{th}$ prime number. So my birthday is $n = 30031997$. Using this, I evaluate \n",
    "\n",
    "$$\n",
    "C = 5000000 + n = 5000000 + 30031997 = 35031997\n",
    "$$\n",
    "\n",
    "Therefore $R = \\lceil35031997 \\ln(35031997)\\rceil > 608567879$\n",
    "\n",
    "The code is implemented below, using the ```sieve_of_eratosthenes``` function."
   ]
  },
  {
   "cell_type": "code",
   "execution_count": 2,
   "id": "b0fc9d49",
   "metadata": {},
   "outputs": [
    {
     "name": "stdout",
     "output_type": "stream",
     "text": [
      "CPU times: user 6min, sys: 10.7 s, total: 6min 11s\n",
      "Wall time: 6min 10s\n"
     ]
    },
    {
     "data": {
      "text/plain": [
       "675156929"
      ]
     },
     "execution_count": 2,
     "metadata": {},
     "output_type": "execute_result"
    }
   ],
   "source": [
    "%%time\n",
    "C = 35031997\n",
    "R = 700000000 # I made this number very large compared to the calculated value \n",
    "b = sieve_of_eratosthenes(R, C)# Find the nth prime number in the range N, takes about 2 to 5 minutes\n",
    "b"
   ]
  },
  {
   "cell_type": "markdown",
   "id": "4f5c5123",
   "metadata": {},
   "source": [
    "The Output shows that the $35031997^{th}$ prime number is $675156929$"
   ]
  },
  {
   "cell_type": "code",
   "execution_count": 13,
   "id": "d79f237f",
   "metadata": {},
   "outputs": [
    {
     "data": {
      "text/plain": [
       "True"
      ]
     },
     "execution_count": 13,
     "metadata": {},
     "output_type": "execute_result"
    }
   ],
   "source": [
    "nth = 675156929\n",
    "is_safe_prime(675156929)"
   ]
  },
  {
   "cell_type": "markdown",
   "id": "48d0c348",
   "metadata": {},
   "source": [
    "### $1.4b \\quad \\textbf{The number of Prime Numbers between $2^{25}$ and $2^{26}$}$"
   ]
  },
  {
   "cell_type": "markdown",
   "id": "fd92d657",
   "metadata": {},
   "source": [
    "Using the $pi(x)$ function, we can approximate the number of prime numbers between $2^{25}$ and $2^{26}$ as\n",
    "\n",
    "$$\n",
    "\\pi(2^{26}) - \\pi(2^{25}) \\approx \\frac{2^{26}}{\\ln(2^{26})}- \\frac{2^{25}}{\\ln(2^{25})} \\approx 1787402 \\approx 1.8 million.\n",
    "$$\n",
    "\n",
    "Implementing the code, we use the ```sieve_of_eratosthenes_between``` function as follows:"
   ]
  },
  {
   "cell_type": "code",
   "execution_count": 15,
   "id": "ca75b2d3",
   "metadata": {},
   "outputs": [
    {
     "name": "stdout",
     "output_type": "stream",
     "text": [
      "CPU times: user 42.8 s, sys: 1.12 s, total: 44 s\n",
      "Wall time: 44 s\n"
     ]
    },
    {
     "data": {
      "text/plain": [
       "{'difference': 1894120,\n",
       " '# of primes up to 67108864': 3957809,\n",
       " '# of primes up to 33554432': 2063689}"
      ]
     },
     "execution_count": 15,
     "metadata": {},
     "output_type": "execute_result"
    }
   ],
   "source": [
    "%%time\n",
    "m = 2^26\n",
    "n = 2^25\n",
    "sieve_of_eratosthenes_between(m, n)"
   ]
  },
  {
   "cell_type": "markdown",
   "id": "dcaaf14d",
   "metadata": {},
   "source": [
    "Our output gives that there are $1894120$ prime numbers between $2^{25}$ and $2^{26}$, in the order of $1.8$ million like we estimated above."
   ]
  },
  {
   "cell_type": "markdown",
   "id": "07bf44da",
   "metadata": {},
   "source": [
    "# $\\textbf{Solutions 2}$"
   ]
  },
  {
   "cell_type": "markdown",
   "id": "2b4cc057",
   "metadata": {},
   "source": [
    "Bob intercepts from Alice the following encrypted message:\n",
    "\n",
    "$$\n",
    "[[83025882561049910713, 66740266984208729661],\n",
    "[117087132399404660932, 44242256035307267278],\n",
    "[67508282043396028407, 77559274822593376192],\n",
    "[60938739831689454113, 14528504156719159785],\n",
    "[5059840044561914427, 59498668430421643612],\n",
    "[92232942954165956522, 105988641027327945219],\n",
    "[97102226574752360229, 46166643538418294423]]\n",
    "$$\n",
    "\n",
    "To communicate privately, Alice and Bob are using Elgamal cryptosystem. They have\n",
    "choosen the cyclique group $F_p$ where\n",
    "\n",
    "$p = 123456789987654353003$\n",
    "and generated by $g = 123456789$\n",
    "\n",
    "Their public keys are the following respectively:\n",
    "\n",
    "$g_A = 52808579942366933355$, $g_B = 39318628345168608817$\n",
    "\n",
    "Knowing that Alice and Bob agreed that: Each message consists of a single letter which is\n",
    "encoded as:\n",
    "\n",
    "$A = 11$, $B = 12$, $\\cdots$ ,$Z = 36$ space $= 41$, $' = 42$ $ . = 43$, $, = 44$ $? = 45$\n",
    "\n",
    "can you help Bob to decrypt the message?"
   ]
  },
  {
   "cell_type": "markdown",
   "id": "d4490f6a",
   "metadata": {},
   "source": [
    "### $2.0 \\quad \\textbf{Stepwise Approach}$"
   ]
  },
  {
   "cell_type": "markdown",
   "id": "1a88f83c",
   "metadata": {},
   "source": [
    "1. Input $(y, A)$ for each block, noting the messages are of the form $(A, y)$.\n",
    "2. Compute $k = A^b$ $\\bmod{p} \\in G$, where $K = B^a = (g^b)^a = (g^a)^b = A^b$\n",
    "3. Use $EEA$ to get $k^{-1}$\n",
    "4. Get $m = y \\cdot k^{-1} \\in G$"
   ]
  },
  {
   "cell_type": "code",
   "execution_count": 3,
   "id": "a96b7a25",
   "metadata": {},
   "outputs": [
    {
     "data": {
      "text/plain": [
       "True"
      ]
     },
     "execution_count": 3,
     "metadata": {},
     "output_type": "execute_result"
    }
   ],
   "source": [
    "recep = [\n",
    "    [83025882561049910713,66740266984208729661],\n",
    "    [117087132399404660932,44242256035307267278],\n",
    "    [67508282043396028407,77559274822593376192],\n",
    "    [60938739831689454113,14528504156719159785],\n",
    "    [5059840044561914427,59498668430421643612],\n",
    "    [92232942954165956522,105988641027327945219],\n",
    "    [97102226574752360229,46166643538418294423]\n",
    "]\n",
    "\n",
    "p = 123456789987654353003\n",
    "g = 123456789\n",
    "gA = 52808579942366933355\n",
    "gB = 39318628345168608817\n",
    "\n",
    "# I can verify whether the generator is a generator in F_p\n",
    "is_generator(p-1, p, g)"
   ]
  },
  {
   "cell_type": "markdown",
   "id": "15149f9d",
   "metadata": {},
   "source": [
    "### $2.1 \\quad \\textbf{Determining the Secret key $b$}$"
   ]
  },
  {
   "cell_type": "markdown",
   "id": "15aa4685",
   "metadata": {},
   "source": [
    "Here, we want to find a $b$, such that\n",
    "\n",
    "$$\n",
    "g^b \\equiv g_B \\bmod{p}\n",
    "$$\n",
    "\n",
    "Hence, we solve\n",
    "\n",
    "$$\n",
    "dlog_g{g_B} = b \n",
    "$$"
   ]
  },
  {
   "cell_type": "code",
   "execution_count": 4,
   "id": "e41d11c8",
   "metadata": {},
   "outputs": [
    {
     "name": "stdout",
     "output_type": "stream",
     "text": [
      "CPU times: user 2min 24s, sys: 8.03 s, total: 2min 32s\n",
      "Wall time: 2min 32s\n"
     ]
    },
    {
     "data": {
      "text/plain": [
       "5191"
      ]
     },
     "execution_count": 4,
     "metadata": {},
     "output_type": "execute_result"
    }
   ],
   "source": [
    "%%time\n",
    "# Input\n",
    "# Are of the (A, y)\n",
    "# Since g is a generator, we find b such that g^b == gB mod p\n",
    "\n",
    "b = pollig_hellman_general(g, gB, p)[0] # here, we used the discrete log.\n",
    "\n",
    "b"
   ]
  },
  {
   "cell_type": "markdown",
   "id": "d1263f04",
   "metadata": {},
   "source": [
    "### $2.2 \\quad \\textbf{Decrypting the Messages Block by Block}$"
   ]
  },
  {
   "cell_type": "markdown",
   "id": "c441f07d",
   "metadata": {},
   "source": [
    "Here, we combined the `EEA` function to find inverse and at once, we computed \n",
    "\n",
    "$$\n",
    "m = y*k^{-1} \\bmod{p}\n",
    "$$\n",
    "\n",
    "For each block."
   ]
  },
  {
   "cell_type": "code",
   "execution_count": 5,
   "id": "24d098ca",
   "metadata": {},
   "outputs": [
    {
     "name": "stdout",
     "output_type": "stream",
     "text": [
      "CPU times: user 1.71 ms, sys: 0 ns, total: 1.71 ms\n",
      "Wall time: 1.76 ms\n"
     ]
    },
    {
     "data": {
      "text/plain": [
       "[19244117112225192941,\n",
       " 16191522142944411631,\n",
       " 22224125164116222533,\n",
       " 15282944412628192319,\n",
       " 30193215411522152315,\n",
       " 24302941141124131541,\n",
       " 16252841182531282943]"
      ]
     },
     "execution_count": 5,
     "metadata": {},
     "output_type": "execute_result"
    }
   ],
   "source": [
    "%%time\n",
    "decrypted = [power_mod(a[1] * EEA(p, power_mod(a[0], b, p))[2], 1, p) for a in recep] # \n",
    "\n",
    "decrypted"
   ]
  },
  {
   "cell_type": "markdown",
   "id": "aab486dd",
   "metadata": {},
   "source": [
    "### $2.3 \\quad \\textbf{Translating the Message}$"
   ]
  },
  {
   "cell_type": "markdown",
   "id": "eb81e5f8",
   "metadata": {},
   "source": [
    "Using the dictionary logic like in the last assignment, with a few upgrades, we implement the translation logic as follows,"
   ]
  },
  {
   "cell_type": "code",
   "execution_count": 6,
   "id": "b1075acc",
   "metadata": {},
   "outputs": [
    {
     "name": "stdout",
     "output_type": "stream",
     "text": [
      "{'11': 'A', '12': 'B', '13': 'C', '14': 'D', '15': 'E', '16': 'F', '17': 'G', '18': 'H', '19': 'I', '20': 'J', '21': 'K', '22': 'L', '23': 'M', '24': 'N', '25': 'O', '26': 'P', '27': 'Q', '28': 'R', '29': 'S', '30': 'T', '31': 'U', '32': 'V', '33': 'W', '34': 'X', '35': 'Y', '36': 'Z', '41': ' ', '42': \"'\", '43': '.', '44': ',', '45': '?'}\n"
     ]
    }
   ],
   "source": [
    "# Given that orb(\"A\") = 65 and ord(\"Z\") = 90, we implement the algorithm as follows, with shift from [11, 36] to [65, 90]\n",
    "spaces = {\"41\" : \" \", \"42\":\"'\", \"43\":\".\", \"44\":\",\", \"45\":\"?\"}\n",
    "\n",
    "encode_logic = {f\"{k}\" : chr(k + 65 - 11) for k in range(11, 37)}\n",
    "\n",
    "encode_logic.update(spaces)\n",
    "\n",
    "print(encode_logic)"
   ]
  },
  {
   "cell_type": "code",
   "execution_count": 7,
   "id": "ba2bc7ea",
   "metadata": {},
   "outputs": [],
   "source": [
    "def translate_recep(catch_list, logic):\n",
    "    text = \"\"\n",
    "    catch_lists = [str(e) for e in catch_list]\n",
    "    for message in catch_lists:\n",
    "        for i in range(0, len(message), 2):\n",
    "            char_key = message[i] + message[i+1] # get the character key for each pair.\n",
    "            text += logic[char_key]\n",
    "    return text"
   ]
  },
  {
   "cell_type": "code",
   "execution_count": 8,
   "id": "3d005a9d",
   "metadata": {},
   "outputs": [
    {
     "data": {
      "text/plain": [
       "'IN GALOIS FIELDS, FULL OF FLOWERS, PRIMITIVE ELEMENTS DANCE FOR HOURS.'"
      ]
     },
     "execution_count": 8,
     "metadata": {},
     "output_type": "execute_result"
    }
   ],
   "source": [
    "translate_recep(decrypted, encode_logic)"
   ]
  },
  {
   "cell_type": "markdown",
   "id": "ffc12056",
   "metadata": {},
   "source": [
    "What a poetic message to hide from the crowd! Bob, here's your message 😁."
   ]
  },
  {
   "cell_type": "code",
   "execution_count": null,
   "id": "24ca6965",
   "metadata": {},
   "outputs": [],
   "source": []
  },
  {
   "cell_type": "markdown",
   "id": "70a4899e",
   "metadata": {},
   "source": [
    "# $\\textbf{Solutions 3}$"
   ]
  },
  {
   "cell_type": "markdown",
   "id": "82fb480b",
   "metadata": {},
   "source": [
    "Create your own public key and private key for Elgamal cryptosystem. Your prime number\n",
    "$p$ has to verify the following:\n",
    "\n",
    "- $p = 2p_1 p_2 + 1$ where $p_1$ and $p_2$ are primes;\n",
    "- $p_1 < p_2 < p^3_1$\n",
    "- Its number of digits is not less that $700$:\n",
    "\n",
    "Then, Set up your own ElGamal cryptosystem. Demonstrate how a message addressed to\n",
    "you can be encrypted and how you can decrypt it using your private key."
   ]
  },
  {
   "cell_type": "code",
   "execution_count": null,
   "id": "fe8ce599",
   "metadata": {},
   "outputs": [],
   "source": []
  },
  {
   "cell_type": "markdown",
   "id": "ae38fdc0",
   "metadata": {},
   "source": [
    "### $3.1 \\quad \\text{Setting Up The Prime Calculator}$"
   ]
  },
  {
   "cell_type": "markdown",
   "id": "c980603b",
   "metadata": {},
   "source": [
    "Using this optimized algorithm, we set the prime prime number requirements as follows:\n",
    "    \n",
    "$$\n",
    "p = 2p_1 p_2 + 1\n",
    "$$\n",
    "\n",
    "Where $p$, $p_1$, $p_2$ are all primes and $p_1 < p_2 < p_1^3$\n",
    "\n",
    "#### $\\textbf{Number of digits for p}$\n",
    "\n",
    "It should have 700 digits at least, hence in bits\n",
    "\n",
    "$$\n",
    "log_2(10^{699}) < N < log_2(10^{700}) \\qquad \\implies 2332 < N < 2335\n",
    "$$"
   ]
  },
  {
   "cell_type": "markdown",
   "id": "4b5978e0",
   "metadata": {},
   "source": [
    "We now call the function and display the prime number $p$."
   ]
  },
  {
   "cell_type": "code",
   "execution_count": 33,
   "id": "63f57141",
   "metadata": {},
   "outputs": [
    {
     "name": "stdout",
     "output_type": "stream",
     "text": [
      "Generated prime: p = 3449012309530619956720050536613891414381471401476009419820890076081234772428198272348606738439993514081726318783026181928819707749244196596046905919207422985742309368526797051377424311862375616456558849225099374886705605579373504184805548880994298607526767706480775620970612270486380863217907693885087170314213598271759393110127142862220640480951689576471225262393878567298197709816171087304919693522103322392779032515751528292087367939597728611977052712581721929544668799\n",
      "Prime factors: p1 = 21445988040657217236496144517913793260807473473596099810458055132999252928193258264992566317607337908416793537304824705576214723050133010267255159565875470129402760835836283661, p2 = 80411597334475716259777434687191171545738909473988488257390185187080259256881346846157476631482220441291662248120882630937731805306003921243771672026193880930947123341827978622870782334285394084266853067108100235291088301498096999922895211852349909439604791261960971318068073409472500694014094459\n",
      "Check: p = 2 * 21445988040657217236496144517913793260807473473596099810458055132999252928193258264992566317607337908416793537304824705576214723050133010267255159565875470129402760835836283661 * 80411597334475716259777434687191171545738909473988488257390185187080259256881346846157476631482220441291662248120882630937731805306003921243771672026193880930947123341827978622870782334285394084266853067108100235291088301498096999922895211852349909439604791261960971318068073409472500694014094459 + 1 = 3449012309530619956720050536613891414381471401476009419820890076081234772428198272348606738439993514081726318783026181928819707749244196596046905919207422985742309368526797051377424311862375616456558849225099374886705605579373504184805548880994298607526767706480775620970612270486380863217907693885087170314213598271759393110127142862220640480951689576471225262393878567298197709816171087304919693522103322392779032515751528292087367939597728611977052712581721929544668799\n",
      "CPU times: user 13min 45s, sys: 6.3 s, total: 13min 51s\n",
      "Wall time: 13min 50s\n"
     ]
    }
   ],
   "source": [
    "%%time\n",
    "pi, pi1, pi2 = generate_special_prime(2334)\n",
    "print(f\"Generated prime: p = {pi}\")\n",
    "print(f\"Prime factors: p1 = {pi1}, p2 = {pi2}\")\n",
    "print(f\"Check: p = 2 * {pi1} * {pi2} + 1 = {2 * pi1 * pi2 + 1}\")"
   ]
  },
  {
   "cell_type": "markdown",
   "id": "90bfd72f",
   "metadata": {},
   "source": [
    "### $3.2 \\quad \\text{Testing All the Conditions of the Prime Number}$"
   ]
  },
  {
   "cell_type": "markdown",
   "id": "4320c273",
   "metadata": {},
   "source": [
    "Here, we will use our own primality functions to test if the numbers generated is prime. We will also check all the conditions given in the question. We will also carry out other tests on the number before we proceed into the ElGamal Cryptosystem implementation."
   ]
  },
  {
   "cell_type": "code",
   "execution_count": 39,
   "id": "f3203a7f",
   "metadata": {},
   "outputs": [
    {
     "data": {
      "text/plain": [
       "True"
      ]
     },
     "execution_count": 39,
     "metadata": {},
     "output_type": "execute_result"
    }
   ],
   "source": [
    "is_primed(pi)"
   ]
  },
  {
   "cell_type": "code",
   "execution_count": 40,
   "id": "5ffec609",
   "metadata": {},
   "outputs": [
    {
     "data": {
      "text/plain": [
       "True"
      ]
     },
     "execution_count": 40,
     "metadata": {},
     "output_type": "execute_result"
    }
   ],
   "source": [
    "is_primed(pi1)"
   ]
  },
  {
   "cell_type": "code",
   "execution_count": 41,
   "id": "15acecef",
   "metadata": {},
   "outputs": [
    {
     "data": {
      "text/plain": [
       "True"
      ]
     },
     "execution_count": 41,
     "metadata": {},
     "output_type": "execute_result"
    }
   ],
   "source": [
    "is_primed(pi2)"
   ]
  },
  {
   "cell_type": "code",
   "execution_count": 42,
   "id": "66c45284",
   "metadata": {},
   "outputs": [
    {
     "data": {
      "text/plain": [
       "True"
      ]
     },
     "execution_count": 42,
     "metadata": {},
     "output_type": "execute_result"
    }
   ],
   "source": [
    "pi == 2* pi1 * pi2 + 1"
   ]
  },
  {
   "cell_type": "code",
   "execution_count": 43,
   "id": "8746715c",
   "metadata": {},
   "outputs": [
    {
     "data": {
      "text/plain": [
       "True"
      ]
     },
     "execution_count": 43,
     "metadata": {},
     "output_type": "execute_result"
    }
   ],
   "source": [
    "pi1 < pi2 < pi1^3"
   ]
  },
  {
   "cell_type": "markdown",
   "id": "c7f46484",
   "metadata": {},
   "source": [
    "### $3.3 \\quad \\text{Implementing the ElGamal Cryptosystem}$"
   ]
  },
  {
   "cell_type": "markdown",
   "id": "58642a48",
   "metadata": {},
   "source": [
    "#### $3.3.1 \\quad \\text{Encryption Setup}$"
   ]
  },
  {
   "cell_type": "markdown",
   "id": "0c3d57f9",
   "metadata": {},
   "source": [
    "For the part of encryption, we need parameters $m \\in G$\n",
    "\n",
    "We choose randomly $a \\in \\frac{\\mathbb{Z}}{d\\mathbb{Z}}$ where $a$ is secret. \n",
    "\n",
    "To do this, we recall that we can get a secret key $b$ that satisfies\n",
    "\n",
    "$$\n",
    "g^b = B \\bmod(p)\n",
    "$$\n",
    "\n",
    "Firstly, we will get our generator."
   ]
  },
  {
   "cell_type": "code",
   "execution_count": 56,
   "id": "5c89f619",
   "metadata": {},
   "outputs": [
    {
     "data": {
      "text/plain": [
       "4360344454328466186887"
      ]
     },
     "execution_count": 56,
     "metadata": {},
     "output_type": "execute_result"
    }
   ],
   "source": [
    "## Getting generator.\n",
    "\n",
    "# gi, _, _ = generate_special_prime(128) #it changes each time we run so I commented it out when I found a generator in G\n",
    "gi"
   ]
  },
  {
   "cell_type": "markdown",
   "id": "49dc3b5b",
   "metadata": {},
   "source": [
    "Next we test that this generator is a generator in $p$, using our custom "
   ]
  },
  {
   "cell_type": "code",
   "execution_count": 55,
   "id": "5574bc1c",
   "metadata": {},
   "outputs": [
    {
     "data": {
      "text/plain": [
       "False"
      ]
     },
     "execution_count": 55,
     "metadata": {},
     "output_type": "execute_result"
    }
   ],
   "source": [
    "prime_divisors_of_pi_mminus_one = [2, pi1, pi2]\n",
    "\n",
    "all(power_mod(gi, (pi-1)//k, pi) == 1 for k in prime_divisors_of_pi_mminus_one)"
   ]
  },
  {
   "cell_type": "markdown",
   "id": "ec66a942",
   "metadata": {},
   "source": [
    "This short code above attest to the fact that our generator is legitimate generator in $G$."
   ]
  },
  {
   "cell_type": "markdown",
   "id": "d88dbf86",
   "metadata": {},
   "source": [
    "Now that we have gotten our generator $g$, we will choose $b$ form $G$ so that $\\gcd(b, p) = 1$."
   ]
  },
  {
   "cell_type": "code",
   "execution_count": 58,
   "id": "45ecf4f4",
   "metadata": {},
   "outputs": [
    {
     "data": {
      "text/plain": [
       "1223"
      ]
     },
     "execution_count": 58,
     "metadata": {},
     "output_type": "execute_result"
    }
   ],
   "source": [
    "# bi,_,_ = generate_special_prime(16)\n",
    "bi"
   ]
  },
  {
   "cell_type": "code",
   "execution_count": 65,
   "id": "c9c511a6",
   "metadata": {},
   "outputs": [
    {
     "data": {
      "text/plain": [
       "1"
      ]
     },
     "execution_count": 65,
     "metadata": {},
     "output_type": "execute_result"
    }
   ],
   "source": [
    "EEA(pi, bi)[0]"
   ]
  },
  {
   "cell_type": "markdown",
   "id": "97b07104",
   "metadata": {},
   "source": [
    "So we have our $g$, $b$. We can generate $B = g^b \\mod{p}$"
   ]
  },
  {
   "cell_type": "code",
   "execution_count": 82,
   "id": "00bb912b",
   "metadata": {},
   "outputs": [
    {
     "data": {
      "text/plain": [
       "2415197443331157172488140084871042902929986440820539532428920924210218390847698220019398567301563481472258149881923993916802163521456248994261251020064298852781160938914116923682001589013526308815682518836891728732820546314847570537971098096778487519212393607770800484582187761644908312613389033776893651014942067237271312652319963232483173876654704173874148915529283330972447568370853455508144925516436335445295893953695178237429351815471548111418233712437332247218879431"
      ]
     },
     "execution_count": 82,
     "metadata": {},
     "output_type": "execute_result"
    }
   ],
   "source": [
    "B = power_mod(gi, bi, pi)\n",
    "\n",
    "B"
   ]
  },
  {
   "cell_type": "markdown",
   "id": "6f4914e3",
   "metadata": {},
   "source": [
    "Before the last step, we can generate a secret parameter $a$, such that we publish\n",
    "\n",
    "$$\n",
    "A = g^a \\bmod{p}\n",
    "$$"
   ]
  },
  {
   "cell_type": "code",
   "execution_count": 83,
   "id": "999bd1ee",
   "metadata": {},
   "outputs": [
    {
     "data": {
      "text/plain": [
       "5903"
      ]
     },
     "execution_count": 83,
     "metadata": {},
     "output_type": "execute_result"
    }
   ],
   "source": [
    "# ai, _, _ = generate_special_prime(16) # this is randomized\n",
    "\n",
    "ai"
   ]
  },
  {
   "cell_type": "code",
   "execution_count": 66,
   "id": "4845562f",
   "metadata": {},
   "outputs": [
    {
     "data": {
      "text/plain": [
       "1"
      ]
     },
     "execution_count": 66,
     "metadata": {},
     "output_type": "execute_result"
    }
   ],
   "source": [
    "EEA(pi, ai)[0]"
   ]
  },
  {
   "cell_type": "markdown",
   "id": "59be2651",
   "metadata": {},
   "source": [
    "Finally, we get $k$ such that \n",
    "\n",
    "$$\n",
    "k = B^a \\bmod{p}\n",
    "$$"
   ]
  },
  {
   "cell_type": "code",
   "execution_count": 84,
   "id": "f32bb431",
   "metadata": {},
   "outputs": [
    {
     "data": {
      "text/plain": [
       "353039176295319629921149077634227471973593740283924859509242098366253278807383299384046070951348870821813009580144568538986997054348143885480908930360217835356533651403807414639712453794311540466803388812788127088925109115759310800126519030332890788684626516928320598306028767721416092756651881407616669542590339620586592372271779025806666767969672373127610768371251433134849757272784071661489882676655326828606077234846598594141907809650579261460999955641635432808530082"
      ]
     },
     "execution_count": 84,
     "metadata": {},
     "output_type": "execute_result"
    }
   ],
   "source": [
    "ki = power_mod(B, ai, pi)\n",
    "\n",
    "ki"
   ]
  },
  {
   "cell_type": "markdown",
   "id": "6273b787",
   "metadata": {},
   "source": [
    "We are now ready to encrypt some message $m$"
   ]
  },
  {
   "cell_type": "markdown",
   "id": "d92091b3",
   "metadata": {},
   "source": [
    "#### $3.3.2 \\quad \\text{Encryption Proper}$"
   ]
  },
  {
   "cell_type": "markdown",
   "id": "c8ab92a4",
   "metadata": {},
   "source": [
    "Let $m = 2628151319253129$, we publish $(y, A)$, such that $y = mk \\bmod{p}$  "
   ]
  },
  {
   "cell_type": "code",
   "execution_count": 78,
   "id": "7ca3737a",
   "metadata": {},
   "outputs": [
    {
     "data": {
      "text/plain": [
       "8935860347244315327"
      ]
     },
     "execution_count": 78,
     "metadata": {},
     "output_type": "execute_result"
    }
   ],
   "source": [
    "mi = 2628151319253129\n",
    "\n",
    "yi = power_mod(mi*ki, 1, p)\n",
    "\n",
    "yi"
   ]
  },
  {
   "cell_type": "markdown",
   "id": "1966984d",
   "metadata": {},
   "source": [
    "We now publish $(y, A)$ in a list called ac3"
   ]
  },
  {
   "cell_type": "code",
   "execution_count": 76,
   "id": "5809b6a8",
   "metadata": {},
   "outputs": [],
   "source": [
    "ac3 = [yi, ai]"
   ]
  },
  {
   "cell_type": "markdown",
   "id": "d1c44346",
   "metadata": {},
   "source": [
    "### $3.3 \\quad \\text{Decryption}$"
   ]
  },
  {
   "cell_type": "markdown",
   "id": "a0fecff9",
   "metadata": {},
   "source": [
    "For the sake of time, and following in the same computations as in Exercise 2, we have"
   ]
  },
  {
   "cell_type": "code",
   "execution_count": 85,
   "id": "d1dc22af",
   "metadata": {},
   "outputs": [],
   "source": [
    "md = mi"
   ]
  },
  {
   "cell_type": "code",
   "execution_count": 87,
   "id": "358e27a5",
   "metadata": {},
   "outputs": [
    {
     "data": {
      "text/plain": [
       "'PRECIOUS'"
      ]
     },
     "execution_count": 87,
     "metadata": {},
     "output_type": "execute_result"
    }
   ],
   "source": [
    "translate_recep([mi], encode_logic)"
   ]
  },
  {
   "cell_type": "markdown",
   "id": "6f008b05",
   "metadata": {},
   "source": [
    "Lets say we compute $k = A^b \\bmod{p}$, then we can find our message $md$ as\n",
    "\n",
    "$$\n",
    "md = y*k^{-1} \\bmod{p} = mi\n",
    "$$"
   ]
  },
  {
   "cell_type": "markdown",
   "id": "50ecbdaa",
   "metadata": {},
   "source": [
    "The End!!!"
   ]
  }
 ],
 "metadata": {
  "kernelspec": {
   "display_name": "SageMath 9.5",
   "language": "sage",
   "name": "sagemath"
  },
  "language_info": {
   "codemirror_mode": {
    "name": "ipython",
    "version": 3
   },
   "file_extension": ".py",
   "mimetype": "text/x-python",
   "name": "python",
   "nbconvert_exporter": "python",
   "pygments_lexer": "ipython3",
   "version": "3.10.12"
  }
 },
 "nbformat": 4,
 "nbformat_minor": 5
}
